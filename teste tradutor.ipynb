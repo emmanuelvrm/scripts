{
 "cells": [
  {
   "cell_type": "code",
   "execution_count": 4,
   "id": "9224c978",
   "metadata": {
    "ExecuteTime": {
     "end_time": "2023-12-24T01:18:11.476601Z",
     "start_time": "2023-12-23T22:47:40.465098Z"
    }
   },
   "outputs": [
    {
     "name": "stdout",
     "output_type": "stream",
     "text": [
      "Tradução concluída para todos os arquivos SRT na pasta 'legendas'.\n"
     ]
    }
   ],
   "source": [
    "import os\n",
    "import time\n",
    "import re\n",
    "from tqdm import tqdm #4.64.1\n",
    "from googletrans import Translator #3.1.0a0\n",
    "from IPython.display import clear_output\n",
    "\n",
    "def translate_srt(file_path, target_language='pt'):\n",
    "    translator = Translator()\n",
    "    translated_lines = []\n",
    "\n",
    "    with open(file_path, 'r', encoding='utf-8') as file:\n",
    "        lines = file.readlines()\n",
    "\n",
    "    for line in tqdm(lines, desc=f\"Traduzindo '{os.path.basename(file_path)}'\"):\n",
    "        if re.match(r'\\d+\\n', line) or re.match(r'\\d{2}:\\d{2}:\\d{2},\\d{3} --> \\d{2}:\\d{2}:\\d{2},\\d{3}\\n', line) or line.strip() == '':\n",
    "            translated_lines.append(line)\n",
    "        else:\n",
    "            try:\n",
    "                translated_line = translator.translate(line, dest=target_language).text\n",
    "                translated_lines.append(translated_line)\n",
    "            except Exception as e:\n",
    "                print(f\"Erro ao traduzir a linha: {line}. Erro: {e}\")\n",
    "                translated_lines.append(line)\n",
    "\n",
    "    translated_file_path = os.path.join('legendas', f'translated_{os.path.basename(file_path)}')\n",
    "    with open(translated_file_path, 'w', encoding='utf-8') as file:\n",
    "        file.writelines(translated_lines)\n",
    "\n",
    "folder_path = 'legendas'\n",
    "files = [f for f in os.listdir(folder_path) if f.endswith('.srt')]\n",
    "\n",
    "for file_name in files:\n",
    "    clear_output(wait=True)\n",
    "    translate_srt(os.path.join(folder_path, file_name), 'pt')\n",
    "    print(f\"Arquivo {file_name} traduzido com sucesso.\")\n",
    "    time.sleep(10)\n",
    "\n",
    "clear_output(wait=True)\n",
    "print(\"Tradução concluída para todos os arquivos SRT na pasta 'legendas'.\")\n"
   ]
  },
  {
   "cell_type": "code",
   "execution_count": 1,
   "id": "725e9692",
   "metadata": {
    "ExecuteTime": {
     "end_time": "2023-12-23T22:30:51.260987Z",
     "start_time": "2023-12-23T22:30:49.900595Z"
    }
   },
   "outputs": [
    {
     "data": {
      "text/plain": [
       "<googletrans.models.Translated at 0x7f60010cc250>"
      ]
     },
     "execution_count": 1,
     "metadata": {},
     "output_type": "execute_result"
    }
   ],
   "source": [
    "from googletrans import Translator\n",
    "translator = Translator()\n",
    "translator.translate('안녕하세요.')"
   ]
  }
 ],
 "metadata": {
  "kernelspec": {
   "display_name": "Python 3 (ipykernel)",
   "language": "python",
   "name": "python3"
  },
  "language_info": {
   "codemirror_mode": {
    "name": "ipython",
    "version": 3
   },
   "file_extension": ".py",
   "mimetype": "text/x-python",
   "name": "python",
   "nbconvert_exporter": "python",
   "pygments_lexer": "ipython3",
   "version": "3.10.9"
  }
 },
 "nbformat": 4,
 "nbformat_minor": 5
}
